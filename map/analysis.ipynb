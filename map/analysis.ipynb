{
 "cells": [
  {
   "cell_type": "code",
   "execution_count": 2,
   "id": "opened-basement",
   "metadata": {},
   "outputs": [],
   "source": [
    "import json\n",
    "import numpy as np\n",
    "import matplotlib.pyplot as plt"
   ]
  },
  {
   "cell_type": "code",
   "execution_count": 3,
   "id": "everyday-nicholas",
   "metadata": {},
   "outputs": [],
   "source": [
    "unum_result = 'unum/final_result.json'\n",
    "sf_result = 'step-functions/final_result.json'\n",
    "\n",
    "with open(unum_result) as f:\n",
    "    unum_data = json.loads(f.read())\n",
    "    \n",
    "with open(sf_result) as f:\n",
    "    sf_data = json.loads(f.read())"
   ]
  },
  {
   "cell_type": "code",
   "execution_count": null,
   "id": "animated-giving",
   "metadata": {
    "scrolled": false
   },
   "outputs": [],
   "source": []
  },
  {
   "cell_type": "code",
   "execution_count": null,
   "id": "resistant-chancellor",
   "metadata": {},
   "outputs": [],
   "source": []
  },
  {
   "cell_type": "code",
   "execution_count": 4,
   "id": "stainless-setup",
   "metadata": {},
   "outputs": [],
   "source": [
    "fan_out_sizes = list(unum_data.keys())"
   ]
  },
  {
   "cell_type": "code",
   "execution_count": 5,
   "id": "allied-legislature",
   "metadata": {},
   "outputs": [],
   "source": [
    "# remove the top 2 and bottom 2 e2e latency from unum_data and sf_data\n",
    "def remove_top_bottom_two(l):\n",
    "    l.remove(max(l))\n",
    "    l.remove(max(l))\n",
    "    l.remove(min(l))\n",
    "    l.remove(min(l))\n",
    "\n",
    "    return l\n",
    "\n",
    "for k in unum_data:\n",
    "    unum_data[k]['e2e latency'] = remove_top_bottom_two(unum_data[k]['e2e latency'])\n",
    "    unum_data[k]['e2e latency'] = np.array(unum_data[k]['e2e latency'])\n",
    "    sf_data[k]['e2e latency'] = remove_top_bottom_two(sf_data[k]['e2e latency'])\n",
    "    sf_data[k]['e2e latency'] = np.array(sf_data[k]['e2e latency'])"
   ]
  },
  {
   "cell_type": "code",
   "execution_count": 6,
   "id": "automated-disco",
   "metadata": {},
   "outputs": [],
   "source": [
    "# compute median (50p) and 99p of e2e latency\n",
    "aggregate = {}\n",
    "\n",
    "for fan_out_size in unum_data:\n",
    "    aggregate[fan_out_size] = {\n",
    "        'unum 50p': [np.percentile(unum_data[fan_out_size]['e2e latency'], 50)],\n",
    "        'unum 99p': [np.percentile(unum_data[fan_out_size]['e2e latency'], 99)],\n",
    "        'sf 50p': [np.percentile(sf_data[fan_out_size]['e2e latency'], 50)],\n",
    "        'sf 99p': [np.percentile(sf_data[fan_out_size]['e2e latency'], 99)],\n",
    "    }"
   ]
  },
  {
   "cell_type": "code",
   "execution_count": 7,
   "id": "frequent-rotation",
   "metadata": {},
   "outputs": [
    {
     "data": {
      "text/plain": [
       "{'2': {'unum 50p': [410.5],\n",
       "  'unum 99p': [490.59999999999997],\n",
       "  'sf 50p': [302.5],\n",
       "  'sf 99p': [387.3]},\n",
       " '4': {'unum 50p': [499.5],\n",
       "  'unum 99p': [561.7],\n",
       "  'sf 50p': [303.0],\n",
       "  'sf 99p': [369.2]},\n",
       " '8': {'unum 50p': [604.0],\n",
       "  'unum 99p': [681.4],\n",
       "  'sf 50p': [415.5],\n",
       "  'sf 99p': [567.05]},\n",
       " '16': {'unum 50p': [905.0],\n",
       "  'unum 99p': [1088.85],\n",
       "  'sf 50p': [676.0],\n",
       "  'sf 99p': [752.9499999999999]},\n",
       " '32': {'unum 50p': [1373.0],\n",
       "  'unum 99p': [1522.75],\n",
       "  'sf 50p': [3256.5],\n",
       "  'sf 99p': [3299.25]},\n",
       " '64': {'unum 50p': [2390.5],\n",
       "  'unum 99p': [2519.35],\n",
       "  'sf 50p': [8121.5],\n",
       "  'sf 99p': [10056.550000000001]},\n",
       " '128': {'unum 50p': [4457.5],\n",
       "  'unum 99p': [4658.5],\n",
       "  'sf 50p': [17477.5],\n",
       "  'sf 99p': [19340.800000000003]},\n",
       " '256': {'unum 50p': [8570.0],\n",
       "  'unum 99p': [8664.55],\n",
       "  'sf 50p': [35661.0],\n",
       "  'sf 99p': [41331.35999999999]},\n",
       " '512': {'unum 50p': [16396.5],\n",
       "  'unum 99p': [16714.65],\n",
       "  'sf 50p': [75216.0],\n",
       "  'sf 99p': [88998.56]}}"
      ]
     },
     "execution_count": 7,
     "metadata": {},
     "output_type": "execute_result"
    }
   ],
   "source": [
    "aggregate"
   ]
  },
  {
   "cell_type": "code",
   "execution_count": 25,
   "id": "declared-review",
   "metadata": {},
   "outputs": [
    {
     "data": {
      "image/png": "[encoded data removed]",
      "text/plain": [
       "<Figure size 432x216 with 1 Axes>"
      ]
     },
     "metadata": {
      "needs_background": "light"
     },
     "output_type": "display_data"
    }
   ],
   "source": [
    "fig, ax = plt.subplots(figsize=(6,3))\n",
    "\n",
    "ax.plot(fan_out_sizes, [aggregate[s]['unum 50p'][0] for s in aggregate], marker='s', label='unum-dynamodb 50p')\n",
    "ax.plot(fan_out_sizes, [aggregate[s]['unum 99p'][0] for s in aggregate], marker='^', label='unum-dynamodb 99p')\n",
    "ax.plot(fan_out_sizes, [aggregate[s]['sf 50p'][0] for s in aggregate], marker='s', ls='--', label='step functions 50p')\n",
    "ax.plot(fan_out_sizes, [aggregate[s]['sf 99p'][0] for s in aggregate], marker='^', ls='--', label='step functions 99p')\n",
    "ax.set_title('fan-out and fan-in performance')\n",
    "ax.set(xlabel='# parallel branches',ylabel='end-to-end latency (ms)')\n",
    "ax.set_yscale('log')\n",
    "ax.legend()\n",
    "ax.grid()\n",
    "\n",
    "fig.savefig('MapMicroLatency.pdf', format='pdf')"
   ]
  },
  {
   "cell_type": "code",
   "execution_count": null,
   "id": "catholic-identification",
   "metadata": {},
   "outputs": [],
   "source": []
  }
 ],
 "metadata": {
  "kernelspec": {
   "display_name": "Python 3",
   "language": "python",
   "name": "python3"
  },
  "language_info": {
   "codemirror_mode": {
    "name": "ipython",
    "version": 3
   },
   "file_extension": ".py",
   "mimetype": "text/x-python",
   "name": "python",
   "nbconvert_exporter": "python",
   "pygments_lexer": "ipython3",
   "version": "3.8.5"
  }
 },
 "nbformat": 4,
 "nbformat_minor": 5
}
